{
 "cells": [
  {
   "cell_type": "code",
   "execution_count": 125,
   "metadata": {},
   "outputs": [],
   "source": [
    "import random\n",
    "import pandas as pd\n",
    "import numpy as np\n",
    "import os\n",
    "import cv2\n",
    "from tqdm.auto import tqdm\n",
    "\n",
    "import torch\n",
    "import torch.nn as nn\n",
    "import torch.optim as optim\n",
    "import torch.nn.functional as F\n",
    "from torch.utils.data import Dataset, DataLoader\n",
    "\n",
    "import albumentations as A\n",
    "from albumentations.pytorch.transforms import ToTensorV2\n",
    "\n",
    "import torchvision.models as models\n",
    "\n",
    "from sklearn import metrics\n",
    "from sklearn.preprocessing import StandardScaler, LabelEncoder\n",
    "from sklearn.model_selection import train_test_split\n",
    "\n",
    "import warnings\n",
    "warnings.filterwarnings(action = 'ignore')"
   ]
  },
  {
   "cell_type": "code",
   "execution_count": 126,
   "metadata": {},
   "outputs": [
    {
     "name": "stdout",
     "output_type": "stream",
     "text": [
      "PyTorch version:1.10.2\n"
     ]
    }
   ],
   "source": [
    "print(f\"PyTorch version:{torch.__version__}\") "
   ]
  },
  {
   "cell_type": "code",
   "execution_count": 127,
   "metadata": {},
   "outputs": [
    {
     "data": {
      "text/plain": [
       "device(type='cpu')"
      ]
     },
     "execution_count": 127,
     "metadata": {},
     "output_type": "execute_result"
    }
   ],
   "source": [
    "# #M1 Mac GPU\n",
    "# #Python 3.10 이상 & PyTorch 1.12.1 이상\n",
    "# device = torch.device('mps:0' if torch.backends.mps.is_available() else 'cpu') #\n",
    "# print (f\"PyTorch version:{torch.__version__}\") # 1.12.1 이상\n",
    "# print(f\"MPS 장치를 지원하도록 build 되었는지: {torch.backends.mps.is_built()}\") # True 여야 합니다.\n",
    "# print(f\"MPS 장치가 사용 가능한지: {torch.backends.mps.is_available()}\") # True 여야 합니다.\n",
    "# !python -c 'import platform;print(platform.platform())'\n",
    "\n",
    "device = torch.device('cuda') if torch.cuda.is_available() else torch.device('cpu')\n",
    "device"
   ]
  },
  {
   "cell_type": "markdown",
   "metadata": {},
   "source": [
    "### Hyperparameter Setting"
   ]
  },
  {
   "cell_type": "code",
   "execution_count": 128,
   "metadata": {},
   "outputs": [],
   "source": [
    "CFG = {\n",
    "    \"IMG_SIZE\" : 512,\n",
    "    \"EPOCHS\" : 5,\n",
    "    \"LEARNING_RATE\": 1e-4,\n",
    "    \"BATCH_SIZE\": 16,\n",
    "    \"SEED\" : 2\n",
    "}"
   ]
  },
  {
   "cell_type": "markdown",
   "metadata": {},
   "source": [
    "### Fixed RandomSeed"
   ]
  },
  {
   "cell_type": "code",
   "execution_count": 129,
   "metadata": {},
   "outputs": [],
   "source": [
    "def seed_everything(seed):\n",
    "    random.seed(seed)\n",
    "    os.environ[\"PYTHONHASHSEED\"] = str(seed)\n",
    "    np.random.seed(seed)\n",
    "    torch.manual_seed(seed)\n",
    "    torch.cuda.manual_seed(seed)\n",
    "    torch.backends.cudnn.deterministic = True\n",
    "    torch.backends.cudnn.benchmark = True\n",
    "    \n",
    "seed_everything(CFG[\"SEED\"]) #Seed 고정"
   ]
  },
  {
   "cell_type": "markdown",
   "metadata": {},
   "source": [
    "### Data Pre-processing"
   ]
  },
  {
   "cell_type": "code",
   "execution_count": 130,
   "metadata": {},
   "outputs": [
    {
     "data": {
      "text/plain": [
       "1    514\n",
       "0    486\n",
       "Name: N_category, dtype: int64"
      ]
     },
     "execution_count": 130,
     "metadata": {},
     "output_type": "execute_result"
    }
   ],
   "source": [
    "#Load Data\n",
    "df_train = pd.read_csv(\"./data_original/data/train.csv\")\n",
    "df_test = pd.read_csv(\"./data_original/data/test.csv\")\n",
    "\n",
    "df_train[\"N_category\"].value_counts(ascending = False)"
   ]
  },
  {
   "cell_type": "code",
   "execution_count": 131,
   "metadata": {},
   "outputs": [],
   "source": [
    "train_pos_label_count = df_train[\"N_category\"].value_counts(ascending = False)[0]\n",
    "train_neg_label_count = df_train[\"N_category\"].value_counts(ascending = False)[1]"
   ]
  },
  {
   "cell_type": "markdown",
   "metadata": {},
   "source": [
    "#### 1. 암의 장경과 label"
   ]
  },
  {
   "cell_type": "code",
   "execution_count": 132,
   "metadata": {},
   "outputs": [
    {
     "data": {
      "text/html": [
       "<div>\n",
       "<style scoped>\n",
       "    .dataframe tbody tr th:only-of-type {\n",
       "        vertical-align: middle;\n",
       "    }\n",
       "\n",
       "    .dataframe tbody tr th {\n",
       "        vertical-align: top;\n",
       "    }\n",
       "\n",
       "    .dataframe thead th {\n",
       "        text-align: right;\n",
       "    }\n",
       "</style>\n",
       "<table border=\"1\" class=\"dataframe\">\n",
       "  <thead>\n",
       "    <tr style=\"text-align: right;\">\n",
       "      <th></th>\n",
       "      <th>ID</th>\n",
       "      <th>img_path</th>\n",
       "      <th>mask_path</th>\n",
       "      <th>나이</th>\n",
       "      <th>수술연월일</th>\n",
       "      <th>진단명</th>\n",
       "      <th>암의 위치</th>\n",
       "      <th>암의 개수</th>\n",
       "      <th>암의 장경</th>\n",
       "      <th>NG</th>\n",
       "      <th>...</th>\n",
       "      <th>ER_Allred_score</th>\n",
       "      <th>PR</th>\n",
       "      <th>PR_Allred_score</th>\n",
       "      <th>KI-67_LI_percent</th>\n",
       "      <th>HER2</th>\n",
       "      <th>HER2_IHC</th>\n",
       "      <th>HER2_SISH</th>\n",
       "      <th>HER2_SISH_ratio</th>\n",
       "      <th>BRCA_mutation</th>\n",
       "      <th>N_category</th>\n",
       "    </tr>\n",
       "  </thead>\n",
       "  <tbody>\n",
       "    <tr>\n",
       "      <th>112</th>\n",
       "      <td>BC_01_0553</td>\n",
       "      <td>./train_imgs/BC_01_0553.png</td>\n",
       "      <td>-</td>\n",
       "      <td>40</td>\n",
       "      <td>2019-07-09</td>\n",
       "      <td>1</td>\n",
       "      <td>1</td>\n",
       "      <td>1</td>\n",
       "      <td>NaN</td>\n",
       "      <td>2.0</td>\n",
       "      <td>...</td>\n",
       "      <td>8.0</td>\n",
       "      <td>1.0</td>\n",
       "      <td>7.0</td>\n",
       "      <td>34.25</td>\n",
       "      <td>0.0</td>\n",
       "      <td>2.0</td>\n",
       "      <td>0.0</td>\n",
       "      <td>1.11</td>\n",
       "      <td>NaN</td>\n",
       "      <td>1</td>\n",
       "    </tr>\n",
       "    <tr>\n",
       "      <th>123</th>\n",
       "      <td>BC_01_0596</td>\n",
       "      <td>./train_imgs/BC_01_0596.png</td>\n",
       "      <td>-</td>\n",
       "      <td>49</td>\n",
       "      <td>2017-04-28</td>\n",
       "      <td>1</td>\n",
       "      <td>2</td>\n",
       "      <td>1</td>\n",
       "      <td>NaN</td>\n",
       "      <td>2.0</td>\n",
       "      <td>...</td>\n",
       "      <td>5.0</td>\n",
       "      <td>1.0</td>\n",
       "      <td>7.0</td>\n",
       "      <td>30.00</td>\n",
       "      <td>0.0</td>\n",
       "      <td>1.0</td>\n",
       "      <td>NaN</td>\n",
       "      <td>NaN</td>\n",
       "      <td>NaN</td>\n",
       "      <td>1</td>\n",
       "    </tr>\n",
       "    <tr>\n",
       "      <th>303</th>\n",
       "      <td>BC_01_1470</td>\n",
       "      <td>./train_imgs/BC_01_1470.png</td>\n",
       "      <td>-</td>\n",
       "      <td>37</td>\n",
       "      <td>2016-11-24</td>\n",
       "      <td>1</td>\n",
       "      <td>1</td>\n",
       "      <td>1</td>\n",
       "      <td>NaN</td>\n",
       "      <td>3.0</td>\n",
       "      <td>...</td>\n",
       "      <td>7.0</td>\n",
       "      <td>1.0</td>\n",
       "      <td>6.0</td>\n",
       "      <td>10.74</td>\n",
       "      <td>0.0</td>\n",
       "      <td>1.0</td>\n",
       "      <td>NaN</td>\n",
       "      <td>NaN</td>\n",
       "      <td>0.0</td>\n",
       "      <td>1</td>\n",
       "    </tr>\n",
       "    <tr>\n",
       "      <th>424</th>\n",
       "      <td>BC_01_2056</td>\n",
       "      <td>./train_imgs/BC_01_2056.png</td>\n",
       "      <td>-</td>\n",
       "      <td>61</td>\n",
       "      <td>2015-09-14</td>\n",
       "      <td>1</td>\n",
       "      <td>1</td>\n",
       "      <td>1</td>\n",
       "      <td>NaN</td>\n",
       "      <td>3.0</td>\n",
       "      <td>...</td>\n",
       "      <td>NaN</td>\n",
       "      <td>0.0</td>\n",
       "      <td>NaN</td>\n",
       "      <td>5.00</td>\n",
       "      <td>1.0</td>\n",
       "      <td>3.0</td>\n",
       "      <td>NaN</td>\n",
       "      <td>NaN</td>\n",
       "      <td>NaN</td>\n",
       "      <td>1</td>\n",
       "    </tr>\n",
       "  </tbody>\n",
       "</table>\n",
       "<p>4 rows × 28 columns</p>\n",
       "</div>"
      ],
      "text/plain": [
       "             ID                     img_path mask_path  나이       수술연월일  진단명  \\\n",
       "112  BC_01_0553  ./train_imgs/BC_01_0553.png         -  40  2019-07-09    1   \n",
       "123  BC_01_0596  ./train_imgs/BC_01_0596.png         -  49  2017-04-28    1   \n",
       "303  BC_01_1470  ./train_imgs/BC_01_1470.png         -  37  2016-11-24    1   \n",
       "424  BC_01_2056  ./train_imgs/BC_01_2056.png         -  61  2015-09-14    1   \n",
       "\n",
       "     암의 위치  암의 개수  암의 장경   NG  ...  ER_Allred_score   PR  PR_Allred_score  \\\n",
       "112      1      1    NaN  2.0  ...              8.0  1.0              7.0   \n",
       "123      2      1    NaN  2.0  ...              5.0  1.0              7.0   \n",
       "303      1      1    NaN  3.0  ...              7.0  1.0              6.0   \n",
       "424      1      1    NaN  3.0  ...              NaN  0.0              NaN   \n",
       "\n",
       "     KI-67_LI_percent  HER2  HER2_IHC  HER2_SISH  HER2_SISH_ratio  \\\n",
       "112             34.25   0.0       2.0        0.0             1.11   \n",
       "123             30.00   0.0       1.0        NaN              NaN   \n",
       "303             10.74   0.0       1.0        NaN              NaN   \n",
       "424              5.00   1.0       3.0        NaN              NaN   \n",
       "\n",
       "     BRCA_mutation  N_category  \n",
       "112            NaN           1  \n",
       "123            NaN           1  \n",
       "303            0.0           1  \n",
       "424            NaN           1  \n",
       "\n",
       "[4 rows x 28 columns]"
      ]
     },
     "execution_count": 132,
     "metadata": {},
     "output_type": "execute_result"
    }
   ],
   "source": [
    "df_train[df_train[\"암의 장경\"].isnull() & (df_train[\"N_category\"] == 1)]\n",
    "#임파선 전이를 하였지만 암의 장경이 결측값인 경우는 전체 데이터의 1% 미만인 4개 뿐임. >> 해당 데이터 제거"
   ]
  },
  {
   "cell_type": "code",
   "execution_count": 133,
   "metadata": {},
   "outputs": [
    {
     "data": {
      "text/plain": [
       "996"
      ]
     },
     "execution_count": 133,
     "metadata": {},
     "output_type": "execute_result"
    }
   ],
   "source": [
    "drop_row_idx_01 = df_train[df_train[\"암의 장경\"].isnull() & (df_train[\"N_category\"] == 1)].index\n",
    "df_train.drop(drop_row_idx_01, axis = 0, inplace = True)\n",
    "df_train.reset_index(drop = True, inplace = True)\n",
    "len(df_train)"
   ]
  },
  {
   "cell_type": "code",
   "execution_count": 134,
   "metadata": {},
   "outputs": [],
   "source": [
    "#결측치 보완\n",
    "df_train[\"암의 장경\"] = df_train[\"암의 장경\"].fillna(df_train[\"암의 장경\"].mean())\n",
    "df_train = df_train.fillna(0)\n",
    "\n",
    "df_test[\"암의 장경\"] = df_test[\"암의 장경\"].fillna(df_test[\"암의 장경\"].mean())\n",
    "df_test = df_test.fillna(0)"
   ]
  },
  {
   "cell_type": "markdown",
   "metadata": {},
   "source": [
    "#### 2. Tubule formation (HG_score_1)과 label"
   ]
  },
  {
   "cell_type": "code",
   "execution_count": 135,
   "metadata": {},
   "outputs": [
    {
     "data": {
      "text/plain": [
       "3.0    617\n",
       "2.0    206\n",
       "0.0     90\n",
       "1.0     83\n",
       "Name: HG_score_1, dtype: int64"
      ]
     },
     "execution_count": 135,
     "metadata": {},
     "output_type": "execute_result"
    }
   ],
   "source": [
    "df_train[\"HG_score_1\"].value_counts()"
   ]
  },
  {
   "cell_type": "code",
   "execution_count": 136,
   "metadata": {},
   "outputs": [
    {
     "name": "stdout",
     "output_type": "stream",
     "text": [
      "0.13618677042801555\n",
      "0.20622568093385213\n",
      "0.4396887159533074\n",
      "0.026748971193415638\n",
      "0.205761316872428\n",
      "0.8045267489711934\n"
     ]
    }
   ],
   "source": [
    "print(len(df_train[(df_train[\"HG_score_1\"] == 1) & (df_train[\"N_category\"] == 0)]) / train_neg_label_count)\n",
    "print(len(df_train[(df_train[\"HG_score_1\"] == 2) & (df_train[\"N_category\"] == 0)]) / train_neg_label_count)\n",
    "print(len(df_train[(df_train[\"HG_score_1\"] == 3) & (df_train[\"N_category\"] == 0)]) / train_neg_label_count)\n",
    "\n",
    "print(len(df_train[(df_train[\"HG_score_1\"] == 1) & (df_train[\"N_category\"] == 1)]) / train_pos_label_count)\n",
    "print(len(df_train[(df_train[\"HG_score_1\"] == 2) & (df_train[\"N_category\"] == 1)]) / train_pos_label_count)\n",
    "print(len(df_train[(df_train[\"HG_score_1\"] == 3) & (df_train[\"N_category\"] == 1)]) / train_pos_label_count)"
   ]
  },
  {
   "cell_type": "code",
   "execution_count": 137,
   "metadata": {},
   "outputs": [
    {
     "data": {
      "text/plain": [
       "983"
      ]
     },
     "execution_count": 137,
     "metadata": {},
     "output_type": "execute_result"
    }
   ],
   "source": [
    "drop_row_idx_02 = df_train[(df_train[\"HG_score_1\"] == 1) & (df_train[\"N_category\"] == 1)].index\n",
    "df_train.drop(drop_row_idx_02, axis = 0, inplace = True)\n",
    "df_train.reset_index(drop = True, inplace = True)\n",
    "len(df_train)"
   ]
  },
  {
   "cell_type": "markdown",
   "metadata": {},
   "source": [
    "#### 3. Nuclear Pleomorphism (HG_score_2)과 label"
   ]
  },
  {
   "cell_type": "code",
   "execution_count": 138,
   "metadata": {},
   "outputs": [
    {
     "data": {
      "text/plain": [
       "2.0    488\n",
       "3.0    269\n",
       "1.0    136\n",
       "0.0     90\n",
       "Name: HG_score_2, dtype: int64"
      ]
     },
     "execution_count": 138,
     "metadata": {},
     "output_type": "execute_result"
    }
   ],
   "source": [
    "df_train[\"HG_score_2\"].value_counts()"
   ]
  },
  {
   "cell_type": "code",
   "execution_count": 139,
   "metadata": {},
   "outputs": [
    {
     "name": "stdout",
     "output_type": "stream",
     "text": [
      "0.22957198443579765\n",
      "0.3754863813229572\n",
      "0.17704280155642024\n",
      "0.037037037037037035\n",
      "0.6069958847736625\n",
      "0.3662551440329218\n"
     ]
    }
   ],
   "source": [
    "print(len(df_train[(df_train[\"HG_score_2\"] == 1) & (df_train[\"N_category\"] == 0)]) / train_neg_label_count)\n",
    "print(len(df_train[(df_train[\"HG_score_2\"] == 2) & (df_train[\"N_category\"] == 0)]) / train_neg_label_count)\n",
    "print(len(df_train[(df_train[\"HG_score_2\"] == 3) & (df_train[\"N_category\"] == 0)]) / train_neg_label_count)\n",
    "\n",
    "print(len(df_train[(df_train[\"HG_score_2\"] == 1) & (df_train[\"N_category\"] == 1)]) / train_pos_label_count)\n",
    "print(len(df_train[(df_train[\"HG_score_2\"] == 2) & (df_train[\"N_category\"] == 1)]) / train_pos_label_count)\n",
    "print(len(df_train[(df_train[\"HG_score_2\"] == 3) & (df_train[\"N_category\"] == 1)]) / train_pos_label_count)"
   ]
  },
  {
   "cell_type": "code",
   "execution_count": 140,
   "metadata": {},
   "outputs": [
    {
     "data": {
      "text/plain": [
       "965"
      ]
     },
     "execution_count": 140,
     "metadata": {},
     "output_type": "execute_result"
    }
   ],
   "source": [
    "drop_row_idx_02 = df_train[(df_train[\"HG_score_2\"] == 1) & (df_train[\"N_category\"] == 1)].index\n",
    "df_train.drop(drop_row_idx_02, axis = 0, inplace = True)\n",
    "df_train.reset_index(drop = True, inplace = True)\n",
    "len(df_train)"
   ]
  },
  {
   "cell_type": "markdown",
   "metadata": {},
   "source": [
    "#### 4. Mitotic Rate (HG_score_3)와 label"
   ]
  },
  {
   "cell_type": "code",
   "execution_count": 141,
   "metadata": {},
   "outputs": [
    {
     "data": {
      "text/plain": [
       "1.0    609\n",
       "2.0    155\n",
       "3.0    111\n",
       "0.0     87\n",
       "4.0      3\n",
       "Name: HG_score_3, dtype: int64"
      ]
     },
     "execution_count": 141,
     "metadata": {},
     "output_type": "execute_result"
    }
   ],
   "source": [
    "df_train[\"HG_score_3\"].value_counts()"
   ]
  },
  {
   "cell_type": "code",
   "execution_count": 142,
   "metadata": {},
   "outputs": [
    {
     "name": "stdout",
     "output_type": "stream",
     "text": [
      "0.5836575875486382\n",
      "0.10700389105058365\n",
      "0.0914396887159533\n",
      "0.005836575875486381\n",
      "0.6358024691358025\n",
      "0.205761316872428\n",
      "0.13168724279835392\n",
      "0.0\n"
     ]
    }
   ],
   "source": [
    "print(len(df_train[(df_train[\"HG_score_3\"] == 1) & (df_train[\"N_category\"] == 0)]) / train_neg_label_count)\n",
    "print(len(df_train[(df_train[\"HG_score_3\"] == 2) & (df_train[\"N_category\"] == 0)]) / train_neg_label_count)\n",
    "print(len(df_train[(df_train[\"HG_score_3\"] == 3) & (df_train[\"N_category\"] == 0)]) / train_neg_label_count)\n",
    "print(len(df_train[(df_train[\"HG_score_3\"] == 4) & (df_train[\"N_category\"] == 0)]) / train_neg_label_count)\n",
    "\n",
    "print(len(df_train[(df_train[\"HG_score_3\"] == 1) & (df_train[\"N_category\"] == 1)]) / train_pos_label_count)\n",
    "print(len(df_train[(df_train[\"HG_score_3\"] == 2) & (df_train[\"N_category\"] == 1)]) / train_pos_label_count)\n",
    "print(len(df_train[(df_train[\"HG_score_3\"] == 3) & (df_train[\"N_category\"] == 1)]) / train_pos_label_count)\n",
    "print(len(df_train[(df_train[\"HG_score_3\"] == 4) & (df_train[\"N_category\"] == 1)]) / train_neg_label_count)"
   ]
  },
  {
   "cell_type": "code",
   "execution_count": 143,
   "metadata": {},
   "outputs": [
    {
     "data": {
      "text/plain": [
       "962"
      ]
     },
     "execution_count": 143,
     "metadata": {},
     "output_type": "execute_result"
    }
   ],
   "source": [
    "drop_row_idx_02 = df_train[df_train[\"HG_score_3\"] == 4].index\n",
    "df_train.drop(drop_row_idx_02, axis = 0, inplace = True)\n",
    "df_train.reset_index(drop = True, inplace = True)\n",
    "len(df_train)"
   ]
  },
  {
   "cell_type": "code",
   "execution_count": 144,
   "metadata": {},
   "outputs": [],
   "source": [
    "#Train / Validation Split\n",
    "df_train, df_val, train_labels, val_labels = train_test_split(df_train.drop(columns = [\"N_category\"]),\n",
    "                                                              df_train[\"N_category\"],\n",
    "                                                              test_size = 0.2,\n",
    "                                                              random_state = CFG[\"SEED\"])"
   ]
  },
  {
   "cell_type": "code",
   "execution_count": 145,
   "metadata": {},
   "outputs": [],
   "source": [
    "#Numeric Feature Scaling / Categorical Feature Label-Encoding\n",
    "\n",
    "def get_values(value):\n",
    "    return value.values.reshape(-1, 1)\n",
    "\n",
    "numeric_cols = [\"나이\", \"암의 장경\", \"ER_Allred_score\", \"PR_Allred_score\", \"KI-67_LI_percent\", \"HER2_SISH_ratio\"]\n",
    "ignore_cols = [\"ID\", \"img_path\", \"mask_path\", \"수술연월일\", \"N_category\"]\n",
    "\n",
    "for col in df_train.columns:\n",
    "    if col in ignore_cols:\n",
    "        continue\n",
    "    if col in numeric_cols:\n",
    "        scaler = StandardScaler()\n",
    "        df_train[col] = scaler.fit_transform(get_values(df_train[col]))\n",
    "        df_val[col] = scaler.transform(get_values(df_val[col]))\n",
    "        df_test[col] = scaler.transform(get_values(df_test[col]))\n",
    "    else:\n",
    "        le = LabelEncoder()\n",
    "        df_train[col] = le.fit_transform(get_values(df_train[col]))\n",
    "        df_val[col] = le.transform(get_values(df_val[col]))\n",
    "        df_test[col] = le.transform(get_values(df_test[col]))"
   ]
  },
  {
   "cell_type": "markdown",
   "metadata": {},
   "source": [
    "### CustomDataset"
   ]
  },
  {
   "cell_type": "code",
   "execution_count": 146,
   "metadata": {},
   "outputs": [],
   "source": [
    "class CustomDataset(Dataset):\n",
    "    def __init__(self, df_medical, labels, transforms = None):\n",
    "        self.df_medical = df_medical\n",
    "        self.transforms = transforms\n",
    "        self.labels = labels\n",
    "    \n",
    "    def __getitem__(self, index):\n",
    "        img_path_prefix = \"./data_original/data\"\n",
    "        img_path = img_path_prefix + self.df_medical[\"img_path\"].iloc[index][1:]\n",
    "        print(img_path)\n",
    "        image = cv2.imread(img_path)\n",
    "        image = cv2.cvtColor(image, cv2.COLOR_BGR2RGB)\n",
    "        \n",
    "        if self.transforms is not None:\n",
    "            image = self.transforms(image = image)[\"image\"]\n",
    "            \n",
    "        if self.labels is not None:\n",
    "            tabular = torch.Tensor(self.df_medical.drop(columns = [\"ID\", \"img_path\", \"mask_path\", \"수술연월일\"]).iloc[index])\n",
    "            label = self.labels[index]\n",
    "            return image, tabular, label\n",
    "        else:\n",
    "            tabular = torch.Tensor(self.df_medical.drop(columns = [\"ID\", \"img_path\", \"수술연월일\"]).iloc[index])\n",
    "            return image, tabular\n",
    "        \n",
    "    def __len__(self):\n",
    "        return len(self.df_medical)"
   ]
  },
  {
   "cell_type": "code",
   "execution_count": 147,
   "metadata": {},
   "outputs": [
    {
     "data": {
      "text/plain": [
       "'./data_original/data/train_imgs/BC_01_2821.png'"
      ]
     },
     "execution_count": 147,
     "metadata": {},
     "output_type": "execute_result"
    }
   ],
   "source": [
    "img_path_prefix = \"./data_original/data\"\n",
    "img_path = img_path_prefix + df_train[\"img_path\"].iloc[1][1:]\n",
    "img_path"
   ]
  },
  {
   "cell_type": "code",
   "execution_count": 148,
   "metadata": {},
   "outputs": [],
   "source": [
    "train_transforms = A.Compose([\n",
    "                A.HorizontalFlip(),\n",
    "                A.VerticalFlip(),\n",
    "                A.Rotate(limit = 90, border_mode = cv2.BORDER_CONSTANT, p = 0.3),\n",
    "                A.Resize(CFG[\"IMG_SIZE\"], CFG['IMG_SIZE']),\n",
    "                A.Normalize(mean = (0.485, 0.456, 0.406), std = (0.229, 0.224, 0.225), max_pixel_value = 255.0, always_apply = False, p = 1.0),\n",
    "    ToTensorV2()\n",
    "    ])\n",
    "\n",
    "test_transforms = A.Compose([\n",
    "    A.Resize(CFG[\"IMG_SIZE\"], CFG['IMG_SIZE']),\n",
    "    A.Normalize(mean = (0.485, 0.456, 0.406), std = (0.229, 0.224, 0.225), max_pixel_value = 255.0, always_apply = False, p = 1.0),\n",
    "    ToTensorV2()\n",
    "])"
   ]
  },
  {
   "cell_type": "code",
   "execution_count": 149,
   "metadata": {},
   "outputs": [],
   "source": [
    "train_dataset = CustomDataset(df_train, train_labels.values, train_transforms)\n",
    "train_loader = DataLoader(train_dataset, batch_size = CFG[\"BATCH_SIZE\"], shuffle = True, num_workers = 0)\n",
    "\n",
    "val_dataset = CustomDataset(df_val, val_labels.values, test_transforms)\n",
    "val_loader = DataLoader(val_dataset, batch_size = CFG[\"BATCH_SIZE\"], shuffle = False, num_workers = 0)"
   ]
  },
  {
   "cell_type": "markdown",
   "metadata": {},
   "source": [
    "### Model Architecture"
   ]
  },
  {
   "cell_type": "code",
   "execution_count": 150,
   "metadata": {},
   "outputs": [],
   "source": [
    "class ImgFeatureExtraction(nn.Module):\n",
    "    def __init__(self):\n",
    "        super(ImgFeatureExtraction, self).__init__()\n",
    "        self.backbone = models.efficientnet_b0(pretrained = True)\n",
    "        self.embedding = nn.Linear(1000, 512)\n",
    "        \n",
    "    def forward(self, x):\n",
    "        x = self.backbone(x)\n",
    "        x = self.embedding(x)\n",
    "        return x"
   ]
  },
  {
   "cell_type": "code",
   "execution_count": 151,
   "metadata": {},
   "outputs": [],
   "source": [
    "class TabularFeatureExtractor(nn.Module):\n",
    "    def __init__(self):\n",
    "        super(TabularFeatureExtractor, self).__init__()\n",
    "        self.embedding = nn.Sequential(\n",
    "            nn.Linear(in_features = 23, out_features = 128),\n",
    "            nn.BatchNorm1d(128),\n",
    "            nn.LeakyReLU(),\n",
    "            nn.Linear(in_features = 128, out_features = 256),\n",
    "            nn.BatchNorm1d(256),\n",
    "            nn.LeakyReLU(),\n",
    "            nn.Linear(in_features = 256, out_features = 512),\n",
    "            nn.BatchNorm1d(512),\n",
    "            nn.LeakyReLU(),\n",
    "            nn.Linear(in_features = 512, out_features = 512)\n",
    "        )\n",
    "    \n",
    "    def forward(self, x):\n",
    "        x = self.embedding(x)\n",
    "        return x"
   ]
  },
  {
   "cell_type": "code",
   "execution_count": 152,
   "metadata": {},
   "outputs": [],
   "source": [
    "class ClassificationModel(nn.Module):\n",
    "    def __init__(self):\n",
    "        super(ClassificationModel, self).__init__()\n",
    "        self.img_feature_extractor = ImgFeatureExtraction()\n",
    "        self.tabular_feature_extractor = TabularFeatureExtractor()\n",
    "        self.classifier = nn.Sequential(\n",
    "            nn.Linear(in_features = 1024, out_features = 1),\n",
    "            nn.Sigmoid(),\n",
    "        )\n",
    "        \n",
    "    def forward(self, img, tabular):\n",
    "        img_feature = self.img_feature_extractor(img)\n",
    "        tabular_feature = self.tabular_feature_extractor(tabular)\n",
    "        feature = torch.cat([img_feature, tabular_feature], dim = -1)\n",
    "        output = self.classifier(feature)\n",
    "        return output"
   ]
  },
  {
   "cell_type": "markdown",
   "metadata": {},
   "source": [
    "### Train"
   ]
  },
  {
   "cell_type": "code",
   "execution_count": 153,
   "metadata": {},
   "outputs": [],
   "source": [
    "def train(model, optimizer, train_loader, val_loader, scheduler, device):\n",
    "    model.to(device)\n",
    "    criterion = nn.BCEWithLogitsLoss().to(device)\n",
    "    \n",
    "    best_score = 0\n",
    "    best_model = None\n",
    "    \n",
    "    for epoch in range(1, CFG[\"EPOCHS\"] + 1):\n",
    "        model.train()\n",
    "        train_loss = []\n",
    "        for img, tabular, label in tqdm(iter(train_loader)):\n",
    "            img = img.float().to(device)\n",
    "            tabular = tabular.float().to(device)\n",
    "            label = label.float().to(device)\n",
    "            \n",
    "            optimizer.zero_grad()\n",
    "            \n",
    "            model_pred = model(img, tabular)\n",
    "            \n",
    "            loss = criterion(model_pred, label.reshape(-1, 1))\n",
    "            \n",
    "            loss.backward()\n",
    "            optimizer.step()\n",
    "            \n",
    "            train_loss.append(loss.item())\n",
    "            \n",
    "        val_loss, val_score = validation(model, criterion, val_loader, device)\n",
    "        print(f'Epoch [{epoch}], Train Loss : [{np.mean(train_loss):.5f}] Val Loss : [{val_loss:.5f}] Val Score : [{val_score:.5f}]')\n",
    "        \n",
    "        if scheduler is not None:\n",
    "            scheduler.step(val_score)\n",
    "            \n",
    "        if best_score < val_score:\n",
    "            best_score = val_score\n",
    "            best_model = model\n",
    "    \n",
    "    return best_model\n",
    "\n",
    "\n",
    "def validation(model, criterion, val_loader, device):\n",
    "    #model.eval()\n",
    "    pred_labels = []\n",
    "    true_labels = []\n",
    "    val_loss = []\n",
    "    threshold = 0.5\n",
    "    with torch.no_grad():\n",
    "        model.eval()\n",
    "        for img, tabular, label in tqdm(iter(val_loader)):\n",
    "            true_labels += label.tolist()\n",
    "            \n",
    "            img = img.float().to(device)\n",
    "            tabular = tabular.float().to(device)\n",
    "            label = label.float().to(device)\n",
    "            \n",
    "            model_pred = model(img, tabular)\n",
    "            \n",
    "            loss = criterion(model_pred, label.reshape(-1, 1))\n",
    "            \n",
    "            val_loss.append(loss.item())\n",
    "            \n",
    "            model_pred = model_pred.squeeze(1).to('cpu')\n",
    "            pred_labels += model_pred.tolist()\n",
    "        \n",
    "        pred_labels = np.where(np.array(pred_labels) > threshold, 1, 0)\n",
    "        val_score = metrics.f1_score(y_true = true_labels, y_pred = pred_labels, average = \"macro\")\n",
    "        return np.mean(val_loss), val_score"
   ]
  },
  {
   "cell_type": "markdown",
   "metadata": {},
   "source": [
    "### Run"
   ]
  },
  {
   "cell_type": "code",
   "execution_count": 154,
   "metadata": {},
   "outputs": [
    {
     "name": "stderr",
     "output_type": "stream",
     "text": [
      "  0%|          | 0/49 [00:00<?, ?it/s]"
     ]
    },
    {
     "name": "stdout",
     "output_type": "stream",
     "text": [
      "./data_original/data/train_imgs/BC_01_1354.png\n",
      "./data_original/data/train_imgs/BC_01_2861.png\n",
      "./data_original/data/train_imgs/BC_01_0506.png\n",
      "./data_original/data/train_imgs/BC_01_2626.png\n",
      "./data_original/data/train_imgs/BC_01_3139.png\n",
      "./data_original/data/train_imgs/BC_01_1276.png\n",
      "./data_original/data/train_imgs/BC_01_2631.png\n",
      "./data_original/data/train_imgs/BC_01_1527.png\n",
      "./data_original/data/train_imgs/BC_01_2528.png\n",
      "./data_original/data/train_imgs/BC_01_2623.png\n",
      "./data_original/data/train_imgs/BC_01_2743.png\n",
      "./data_original/data/train_imgs/BC_01_0572.png\n",
      "./data_original/data/train_imgs/BC_01_2687.png\n",
      "./data_original/data/train_imgs/BC_01_0005.png\n",
      "./data_original/data/train_imgs/BC_01_3247.png\n",
      "./data_original/data/train_imgs/BC_01_2756.png\n"
     ]
    },
    {
     "name": "stderr",
     "output_type": "stream",
     "text": [
      "  2%|▏         | 1/49 [01:15<1:00:26, 75.55s/it]"
     ]
    },
    {
     "name": "stdout",
     "output_type": "stream",
     "text": [
      "./data_original/data/train_imgs/BC_01_2753.png\n",
      "./data_original/data/train_imgs/BC_01_0730.png\n",
      "./data_original/data/train_imgs/BC_01_1826.png\n",
      "./data_original/data/train_imgs/BC_01_0257.png\n",
      "./data_original/data/train_imgs/BC_01_2673.png\n",
      "./data_original/data/train_imgs/BC_01_0295.png\n",
      "./data_original/data/train_imgs/BC_01_1442.png\n",
      "./data_original/data/train_imgs/BC_01_3045.png\n",
      "./data_original/data/train_imgs/BC_01_1190.png\n",
      "./data_original/data/train_imgs/BC_01_1662.png\n",
      "./data_original/data/train_imgs/BC_01_3014.png\n",
      "./data_original/data/train_imgs/BC_01_2106.png\n",
      "./data_original/data/train_imgs/BC_01_1282.png\n",
      "./data_original/data/train_imgs/BC_01_1101.png\n",
      "./data_original/data/train_imgs/BC_01_2930.png\n",
      "./data_original/data/train_imgs/BC_01_2734.png\n"
     ]
    }
   ],
   "source": [
    "model = nn.DataParallel(ClassificationModel())\n",
    "model.eval()\n",
    "optimizer = torch.optim.Adam(params = model.parameters(), lr = CFG[\"LEARNING_RATE\"])\n",
    "scheduler = torch.optim.lr_scheduler.ReduceLROnPlateau(optimizer, mode = \"max\", factor = 0.5, patience = 1, threshold_mode = \"abs\", min_lr = 1e-8, verbose = True)\n",
    "\n",
    "infer_model = train(model, optimizer, train_loader, val_loader, scheduler, device)"
   ]
  },
  {
   "cell_type": "code",
   "execution_count": null,
   "metadata": {},
   "outputs": [],
   "source": [
    "test_dataset = CustomDataset(df_test, None, test_transforms)\n",
    "test_loader = DataLoader(test_dataset, batch_size=CFG['BATCH_SIZE'], shuffle=False, num_workers=0)"
   ]
  },
  {
   "cell_type": "code",
   "execution_count": null,
   "metadata": {},
   "outputs": [],
   "source": [
    "def inference(model, test_loader, device):\n",
    "    model.to(device)\n",
    "    model.eval()\n",
    "    preds = []\n",
    "    threshold = 0.5\n",
    "    \n",
    "    with torch.no_grad():\n",
    "        for img, tabular in tqdm(iter(test_loader)):\n",
    "            img = img.float().to(device)\n",
    "            tabular = tabular.float().to(device)\n",
    "            \n",
    "            model_pred = model(img, tabular)\n",
    "            \n",
    "            model_pred = model_pred.squeeze(1).to('cpu')\n",
    "            \n",
    "            preds += model_pred.tolist()\n",
    "    \n",
    "    preds = np.where(np.array(preds) > threshold, 1, 0)\n",
    "    \n",
    "    return preds"
   ]
  },
  {
   "cell_type": "code",
   "execution_count": null,
   "metadata": {},
   "outputs": [
    {
     "name": "stderr",
     "output_type": "stream",
     "text": [
      "  0%|          | 0/16 [00:00<?, ?it/s]"
     ]
    },
    {
     "name": "stdout",
     "output_type": "stream",
     "text": [
      "./data_original/data/test_imgs/BC_01_0011.png\n",
      "./data_original/data/test_imgs/BC_01_0220.png\n",
      "./data_original/data/test_imgs/BC_01_0233.png\n",
      "./data_original/data/test_imgs/BC_01_0258.png\n",
      "./data_original/data/test_imgs/BC_01_0260.png\n",
      "./data_original/data/test_imgs/BC_01_0266.png\n",
      "./data_original/data/test_imgs/BC_01_0269.png\n",
      "./data_original/data/test_imgs/BC_01_0272.png\n",
      "./data_original/data/test_imgs/BC_01_0275.png\n",
      "./data_original/data/test_imgs/BC_01_0278.png\n",
      "./data_original/data/test_imgs/BC_01_0279.png\n",
      "./data_original/data/test_imgs/BC_01_0286.png\n",
      "./data_original/data/test_imgs/BC_01_0296.png\n",
      "./data_original/data/test_imgs/BC_01_0303.png\n",
      "./data_original/data/test_imgs/BC_01_0310.png\n",
      "./data_original/data/test_imgs/BC_01_0322.png\n"
     ]
    },
    {
     "name": "stderr",
     "output_type": "stream",
     "text": [
      "  6%|▋         | 1/16 [00:08<02:12,  8.81s/it]"
     ]
    },
    {
     "name": "stdout",
     "output_type": "stream",
     "text": [
      "./data_original/data/test_imgs/BC_01_0340.png\n",
      "./data_original/data/test_imgs/BC_01_0344.png\n",
      "./data_original/data/test_imgs/BC_01_0390.png\n",
      "./data_original/data/test_imgs/BC_01_0488.png\n",
      "./data_original/data/test_imgs/BC_01_0507.png\n",
      "./data_original/data/test_imgs/BC_01_0511.png\n",
      "./data_original/data/test_imgs/BC_01_0526.png\n",
      "./data_original/data/test_imgs/BC_01_0632.png\n",
      "./data_original/data/test_imgs/BC_01_0635.png\n",
      "./data_original/data/test_imgs/BC_01_0712.png\n",
      "./data_original/data/test_imgs/BC_01_0715.png\n",
      "./data_original/data/test_imgs/BC_01_0721.png\n",
      "./data_original/data/test_imgs/BC_01_0726.png\n",
      "./data_original/data/test_imgs/BC_01_0790.png\n",
      "./data_original/data/test_imgs/BC_01_0793.png\n",
      "./data_original/data/test_imgs/BC_01_0801.png\n"
     ]
    },
    {
     "name": "stderr",
     "output_type": "stream",
     "text": [
      " 12%|█▎        | 2/16 [00:17<02:04,  8.87s/it]"
     ]
    },
    {
     "name": "stdout",
     "output_type": "stream",
     "text": [
      "./data_original/data/test_imgs/BC_01_0820.png\n",
      "./data_original/data/test_imgs/BC_01_0848.png\n",
      "./data_original/data/test_imgs/BC_01_0860.png\n",
      "./data_original/data/test_imgs/BC_01_0884.png\n",
      "./data_original/data/test_imgs/BC_01_0933.png\n",
      "./data_original/data/test_imgs/BC_01_1011.png\n",
      "./data_original/data/test_imgs/BC_01_1051.png\n",
      "./data_original/data/test_imgs/BC_01_1053.png\n",
      "./data_original/data/test_imgs/BC_01_1078.png\n",
      "./data_original/data/test_imgs/BC_01_1079.png\n",
      "./data_original/data/test_imgs/BC_01_1084.png\n",
      "./data_original/data/test_imgs/BC_01_1109.png\n",
      "./data_original/data/test_imgs/BC_01_1114.png\n",
      "./data_original/data/test_imgs/BC_01_1139.png\n",
      "./data_original/data/test_imgs/BC_01_1158.png\n",
      "./data_original/data/test_imgs/BC_01_1160.png\n"
     ]
    },
    {
     "name": "stderr",
     "output_type": "stream",
     "text": [
      " 19%|█▉        | 3/16 [00:26<01:54,  8.83s/it]"
     ]
    },
    {
     "name": "stdout",
     "output_type": "stream",
     "text": [
      "./data_original/data/test_imgs/BC_01_1177.png\n",
      "./data_original/data/test_imgs/BC_01_1183.png\n",
      "./data_original/data/test_imgs/BC_01_1187.png\n",
      "./data_original/data/test_imgs/BC_01_1196.png\n",
      "./data_original/data/test_imgs/BC_01_1222.png\n",
      "./data_original/data/test_imgs/BC_01_1246.png\n",
      "./data_original/data/test_imgs/BC_01_1251.png\n",
      "./data_original/data/test_imgs/BC_01_1257.png\n",
      "./data_original/data/test_imgs/BC_01_1299.png\n",
      "./data_original/data/test_imgs/BC_01_1304.png\n",
      "./data_original/data/test_imgs/BC_01_1353.png\n",
      "./data_original/data/test_imgs/BC_01_1361.png\n",
      "./data_original/data/test_imgs/BC_01_1363.png\n",
      "./data_original/data/test_imgs/BC_01_1391.png\n",
      "./data_original/data/test_imgs/BC_01_1412.png\n",
      "./data_original/data/test_imgs/BC_01_1438.png\n"
     ]
    },
    {
     "name": "stderr",
     "output_type": "stream",
     "text": [
      " 25%|██▌       | 4/16 [00:35<01:46,  8.84s/it]"
     ]
    },
    {
     "name": "stdout",
     "output_type": "stream",
     "text": [
      "./data_original/data/test_imgs/BC_01_1454.png\n",
      "./data_original/data/test_imgs/BC_01_1460.png\n",
      "./data_original/data/test_imgs/BC_01_1523.png\n",
      "./data_original/data/test_imgs/BC_01_1531.png\n",
      "./data_original/data/test_imgs/BC_01_1546.png\n",
      "./data_original/data/test_imgs/BC_01_1550.png\n",
      "./data_original/data/test_imgs/BC_01_1563.png\n",
      "./data_original/data/test_imgs/BC_01_1566.png\n",
      "./data_original/data/test_imgs/BC_01_1606.png\n",
      "./data_original/data/test_imgs/BC_01_1614.png\n",
      "./data_original/data/test_imgs/BC_01_1659.png\n",
      "./data_original/data/test_imgs/BC_01_1660.png\n",
      "./data_original/data/test_imgs/BC_01_1665.png\n",
      "./data_original/data/test_imgs/BC_01_1678.png\n",
      "./data_original/data/test_imgs/BC_01_1681.png\n",
      "./data_original/data/test_imgs/BC_01_1689.png\n"
     ]
    },
    {
     "name": "stderr",
     "output_type": "stream",
     "text": [
      " 31%|███▏      | 5/16 [00:44<01:38,  8.97s/it]"
     ]
    },
    {
     "name": "stdout",
     "output_type": "stream",
     "text": [
      "./data_original/data/test_imgs/BC_01_1710.png\n",
      "./data_original/data/test_imgs/BC_01_1742.png\n",
      "./data_original/data/test_imgs/BC_01_1749.png\n",
      "./data_original/data/test_imgs/BC_01_1751.png\n",
      "./data_original/data/test_imgs/BC_01_1808.png\n",
      "./data_original/data/test_imgs/BC_01_1828.png\n",
      "./data_original/data/test_imgs/BC_01_1845.png\n",
      "./data_original/data/test_imgs/BC_01_1857.png\n",
      "./data_original/data/test_imgs/BC_01_1885.png\n",
      "./data_original/data/test_imgs/BC_01_1896.png\n",
      "./data_original/data/test_imgs/BC_01_1897.png\n",
      "./data_original/data/test_imgs/BC_01_1902.png\n",
      "./data_original/data/test_imgs/BC_01_1911.png\n",
      "./data_original/data/test_imgs/BC_01_1912.png\n",
      "./data_original/data/test_imgs/BC_01_1949.png\n",
      "./data_original/data/test_imgs/BC_01_1955.png\n"
     ]
    },
    {
     "name": "stderr",
     "output_type": "stream",
     "text": [
      " 38%|███▊      | 6/16 [00:53<01:29,  8.99s/it]"
     ]
    },
    {
     "name": "stdout",
     "output_type": "stream",
     "text": [
      "./data_original/data/test_imgs/BC_01_1957.png\n",
      "./data_original/data/test_imgs/BC_01_1994.png\n",
      "./data_original/data/test_imgs/BC_01_2021.png\n",
      "./data_original/data/test_imgs/BC_01_2041.png\n",
      "./data_original/data/test_imgs/BC_01_2103.png\n",
      "./data_original/data/test_imgs/BC_01_2131.png\n",
      "./data_original/data/test_imgs/BC_01_2153.png\n",
      "./data_original/data/test_imgs/BC_01_2191.png\n",
      "./data_original/data/test_imgs/BC_01_2219.png\n",
      "./data_original/data/test_imgs/BC_01_2227.png\n",
      "./data_original/data/test_imgs/BC_01_2256.png\n",
      "./data_original/data/test_imgs/BC_01_2258.png\n",
      "./data_original/data/test_imgs/BC_01_2262.png\n",
      "./data_original/data/test_imgs/BC_01_2263.png\n",
      "./data_original/data/test_imgs/BC_01_2284.png\n",
      "./data_original/data/test_imgs/BC_01_2315.png\n"
     ]
    },
    {
     "name": "stderr",
     "output_type": "stream",
     "text": [
      " 44%|████▍     | 7/16 [01:02<01:21,  9.07s/it]"
     ]
    },
    {
     "name": "stdout",
     "output_type": "stream",
     "text": [
      "./data_original/data/test_imgs/BC_01_2316.png\n",
      "./data_original/data/test_imgs/BC_01_2321.png\n",
      "./data_original/data/test_imgs/BC_01_2344.png\n",
      "./data_original/data/test_imgs/BC_01_2356.png\n",
      "./data_original/data/test_imgs/BC_01_2366.png\n",
      "./data_original/data/test_imgs/BC_01_2400.png\n",
      "./data_original/data/test_imgs/BC_01_2409.png\n",
      "./data_original/data/test_imgs/BC_01_2410.png\n",
      "./data_original/data/test_imgs/BC_01_2416.png\n",
      "./data_original/data/test_imgs/BC_01_2422.png\n",
      "./data_original/data/test_imgs/BC_01_2451.png\n",
      "./data_original/data/test_imgs/BC_01_2452.png\n",
      "./data_original/data/test_imgs/BC_01_2462.png\n",
      "./data_original/data/test_imgs/BC_01_2495.png\n",
      "./data_original/data/test_imgs/BC_01_2499.png\n",
      "./data_original/data/test_imgs/BC_01_2501.png\n"
     ]
    },
    {
     "name": "stderr",
     "output_type": "stream",
     "text": [
      " 50%|█████     | 8/16 [01:12<01:13,  9.18s/it]"
     ]
    },
    {
     "name": "stdout",
     "output_type": "stream",
     "text": [
      "./data_original/data/test_imgs/BC_01_2508.png\n",
      "./data_original/data/test_imgs/BC_01_2511.png\n",
      "./data_original/data/test_imgs/BC_01_2522.png\n",
      "./data_original/data/test_imgs/BC_01_2527.png\n",
      "./data_original/data/test_imgs/BC_01_2550.png\n",
      "./data_original/data/test_imgs/BC_01_2574.png\n",
      "./data_original/data/test_imgs/BC_01_2581.png\n",
      "./data_original/data/test_imgs/BC_01_2582.png\n",
      "./data_original/data/test_imgs/BC_01_2595.png\n",
      "./data_original/data/test_imgs/BC_01_2598.png\n",
      "./data_original/data/test_imgs/BC_01_2622.png\n",
      "./data_original/data/test_imgs/BC_01_2627.png\n",
      "./data_original/data/test_imgs/BC_01_2629.png\n",
      "./data_original/data/test_imgs/BC_01_2636.png\n",
      "./data_original/data/test_imgs/BC_01_2637.png\n",
      "./data_original/data/test_imgs/BC_01_2643.png\n"
     ]
    },
    {
     "name": "stderr",
     "output_type": "stream",
     "text": [
      " 56%|█████▋    | 9/16 [01:20<01:03,  9.01s/it]"
     ]
    },
    {
     "name": "stdout",
     "output_type": "stream",
     "text": [
      "./data_original/data/test_imgs/BC_01_2653.png\n",
      "./data_original/data/test_imgs/BC_01_2662.png\n",
      "./data_original/data/test_imgs/BC_01_2668.png\n",
      "./data_original/data/test_imgs/BC_01_2672.png\n",
      "./data_original/data/test_imgs/BC_01_2675.png\n",
      "./data_original/data/test_imgs/BC_01_2677.png\n",
      "./data_original/data/test_imgs/BC_01_2679.png\n",
      "./data_original/data/test_imgs/BC_01_2685.png\n",
      "./data_original/data/test_imgs/BC_01_2689.png\n",
      "./data_original/data/test_imgs/BC_01_2692.png\n",
      "./data_original/data/test_imgs/BC_01_2694.png\n",
      "./data_original/data/test_imgs/BC_01_2697.png\n",
      "./data_original/data/test_imgs/BC_01_2698.png\n",
      "./data_original/data/test_imgs/BC_01_2707.png\n",
      "./data_original/data/test_imgs/BC_01_2713.png\n",
      "./data_original/data/test_imgs/BC_01_2714.png\n"
     ]
    },
    {
     "name": "stderr",
     "output_type": "stream",
     "text": [
      " 62%|██████▎   | 10/16 [01:29<00:53,  8.97s/it]"
     ]
    },
    {
     "name": "stdout",
     "output_type": "stream",
     "text": [
      "./data_original/data/test_imgs/BC_01_2715.png\n",
      "./data_original/data/test_imgs/BC_01_2716.png\n",
      "./data_original/data/test_imgs/BC_01_2718.png\n",
      "./data_original/data/test_imgs/BC_01_2741.png\n",
      "./data_original/data/test_imgs/BC_01_2742.png\n",
      "./data_original/data/test_imgs/BC_01_2751.png\n",
      "./data_original/data/test_imgs/BC_01_2759.png\n",
      "./data_original/data/test_imgs/BC_01_2763.png\n",
      "./data_original/data/test_imgs/BC_01_2764.png\n",
      "./data_original/data/test_imgs/BC_01_2768.png\n",
      "./data_original/data/test_imgs/BC_01_2770.png\n",
      "./data_original/data/test_imgs/BC_01_2774.png\n",
      "./data_original/data/test_imgs/BC_01_2781.png\n",
      "./data_original/data/test_imgs/BC_01_2783.png\n",
      "./data_original/data/test_imgs/BC_01_2784.png\n",
      "./data_original/data/test_imgs/BC_01_2797.png\n"
     ]
    },
    {
     "name": "stderr",
     "output_type": "stream",
     "text": [
      " 69%|██████▉   | 11/16 [01:38<00:44,  8.90s/it]"
     ]
    },
    {
     "name": "stdout",
     "output_type": "stream",
     "text": [
      "./data_original/data/test_imgs/BC_01_2798.png\n",
      "./data_original/data/test_imgs/BC_01_2803.png\n",
      "./data_original/data/test_imgs/BC_01_2806.png\n",
      "./data_original/data/test_imgs/BC_01_2810.png\n",
      "./data_original/data/test_imgs/BC_01_2814.png\n",
      "./data_original/data/test_imgs/BC_01_2818.png\n",
      "./data_original/data/test_imgs/BC_01_2828.png\n",
      "./data_original/data/test_imgs/BC_01_2850.png\n",
      "./data_original/data/test_imgs/BC_01_2852.png\n",
      "./data_original/data/test_imgs/BC_01_2855.png\n",
      "./data_original/data/test_imgs/BC_01_2863.png\n",
      "./data_original/data/test_imgs/BC_01_2865.png\n",
      "./data_original/data/test_imgs/BC_01_2870.png\n",
      "./data_original/data/test_imgs/BC_01_2874.png\n",
      "./data_original/data/test_imgs/BC_01_2882.png\n",
      "./data_original/data/test_imgs/BC_01_2883.png\n"
     ]
    },
    {
     "name": "stderr",
     "output_type": "stream",
     "text": [
      " 75%|███████▌  | 12/16 [01:48<00:36,  9.09s/it]"
     ]
    },
    {
     "name": "stdout",
     "output_type": "stream",
     "text": [
      "./data_original/data/test_imgs/BC_01_2885.png\n",
      "./data_original/data/test_imgs/BC_01_2891.png\n",
      "./data_original/data/test_imgs/BC_01_2892.png\n",
      "./data_original/data/test_imgs/BC_01_2893.png\n",
      "./data_original/data/test_imgs/BC_01_2894.png\n",
      "./data_original/data/test_imgs/BC_01_2904.png\n",
      "./data_original/data/test_imgs/BC_01_2905.png\n",
      "./data_original/data/test_imgs/BC_01_2909.png\n",
      "./data_original/data/test_imgs/BC_01_2910.png\n",
      "./data_original/data/test_imgs/BC_01_2912.png\n",
      "./data_original/data/test_imgs/BC_01_2914.png\n",
      "./data_original/data/test_imgs/BC_01_2915.png\n",
      "./data_original/data/test_imgs/BC_01_2919.png\n",
      "./data_original/data/test_imgs/BC_01_2925.png\n",
      "./data_original/data/test_imgs/BC_01_2933.png\n",
      "./data_original/data/test_imgs/BC_01_2945.png\n"
     ]
    },
    {
     "name": "stderr",
     "output_type": "stream",
     "text": [
      " 81%|████████▏ | 13/16 [01:57<00:27,  9.18s/it]"
     ]
    },
    {
     "name": "stdout",
     "output_type": "stream",
     "text": [
      "./data_original/data/test_imgs/BC_01_2946.png\n",
      "./data_original/data/test_imgs/BC_01_2949.png\n",
      "./data_original/data/test_imgs/BC_01_2954.png\n",
      "./data_original/data/test_imgs/BC_01_2955.png\n",
      "./data_original/data/test_imgs/BC_01_2964.png\n",
      "./data_original/data/test_imgs/BC_01_2970.png\n",
      "./data_original/data/test_imgs/BC_01_2971.png\n",
      "./data_original/data/test_imgs/BC_01_2973.png\n",
      "./data_original/data/test_imgs/BC_01_2974.png\n",
      "./data_original/data/test_imgs/BC_01_2975.png\n",
      "./data_original/data/test_imgs/BC_01_2979.png\n",
      "./data_original/data/test_imgs/BC_01_2980.png\n",
      "./data_original/data/test_imgs/BC_01_2981.png\n",
      "./data_original/data/test_imgs/BC_01_2995.png\n",
      "./data_original/data/test_imgs/BC_01_2996.png\n",
      "./data_original/data/test_imgs/BC_01_3003.png\n"
     ]
    },
    {
     "name": "stderr",
     "output_type": "stream",
     "text": [
      " 88%|████████▊ | 14/16 [02:07<00:18,  9.38s/it]"
     ]
    },
    {
     "name": "stdout",
     "output_type": "stream",
     "text": [
      "./data_original/data/test_imgs/BC_01_3009.png\n",
      "./data_original/data/test_imgs/BC_01_3022.png\n",
      "./data_original/data/test_imgs/BC_01_3023.png\n",
      "./data_original/data/test_imgs/BC_01_3024.png\n",
      "./data_original/data/test_imgs/BC_01_3027.png\n",
      "./data_original/data/test_imgs/BC_01_3029.png\n",
      "./data_original/data/test_imgs/BC_01_3052.png\n",
      "./data_original/data/test_imgs/BC_01_3055.png\n",
      "./data_original/data/test_imgs/BC_01_3057.png\n",
      "./data_original/data/test_imgs/BC_01_3059.png\n",
      "./data_original/data/test_imgs/BC_01_3074.png\n",
      "./data_original/data/test_imgs/BC_01_3082.png\n",
      "./data_original/data/test_imgs/BC_01_3114.png\n",
      "./data_original/data/test_imgs/BC_01_3124.png\n",
      "./data_original/data/test_imgs/BC_01_3167.png\n",
      "./data_original/data/test_imgs/BC_01_3201.png\n"
     ]
    },
    {
     "name": "stderr",
     "output_type": "stream",
     "text": [
      " 94%|█████████▍| 15/16 [02:16<00:09,  9.40s/it]"
     ]
    },
    {
     "name": "stdout",
     "output_type": "stream",
     "text": [
      "./data_original/data/test_imgs/BC_01_3205.png\n",
      "./data_original/data/test_imgs/BC_01_3211.png\n",
      "./data_original/data/test_imgs/BC_01_3256.png\n",
      "./data_original/data/test_imgs/BC_01_3257.png\n",
      "./data_original/data/test_imgs/BC_01_3261.png\n",
      "./data_original/data/test_imgs/BC_01_3328.png\n",
      "./data_original/data/test_imgs/BC_01_3404.png\n",
      "./data_original/data/test_imgs/BC_01_3418.png\n",
      "./data_original/data/test_imgs/BC_01_3438.png\n",
      "./data_original/data/test_imgs/BC_01_3446.png\n"
     ]
    },
    {
     "name": "stderr",
     "output_type": "stream",
     "text": [
      "100%|██████████| 16/16 [02:20<00:00,  8.79s/it]\n"
     ]
    }
   ],
   "source": [
    "preds = inference(infer_model, test_loader, device)"
   ]
  },
  {
   "cell_type": "code",
   "execution_count": null,
   "metadata": {},
   "outputs": [],
   "source": [
    "preds"
   ]
  },
  {
   "cell_type": "markdown",
   "metadata": {},
   "source": [
    "### Submission"
   ]
  },
  {
   "cell_type": "code",
   "execution_count": null,
   "metadata": {},
   "outputs": [],
   "source": [
    "submit = pd.read_csv(\"./data_original/data/sample_submission.csv\")\n",
    "\n",
    "submit[\"N_category\"] = preds\n",
    "submit.to_csv(\"./submit/submission.csv\", index = False)"
   ]
  }
 ],
 "metadata": {
  "kernelspec": {
   "display_name": "Python 3.9.13",
   "language": "python",
   "name": "python3"
  },
  "language_info": {
   "codemirror_mode": {
    "name": "ipython",
    "version": 3
   },
   "file_extension": ".py",
   "mimetype": "text/x-python",
   "name": "python",
   "nbconvert_exporter": "python",
   "pygments_lexer": "ipython3",
   "version": "3.9.13"
  },
  "orig_nbformat": 4,
  "vscode": {
   "interpreter": {
    "hash": "2f5c0672111cb3b00535a21fd1bb94d5b802493c8466ed23420aca8d72c91396"
   }
  }
 },
 "nbformat": 4,
 "nbformat_minor": 2
}
